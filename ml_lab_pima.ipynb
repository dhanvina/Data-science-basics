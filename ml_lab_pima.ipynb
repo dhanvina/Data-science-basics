{
  "nbformat": 4,
  "nbformat_minor": 0,
  "metadata": {
    "colab": {
      "provenance": [],
      "authorship_tag": "ABX9TyPRx3hLew4J/eLD8IKSl4Vi",
      "include_colab_link": true
    },
    "kernelspec": {
      "name": "python3",
      "display_name": "Python 3"
    },
    "language_info": {
      "name": "python"
    }
  },
  "cells": [
    {
      "cell_type": "markdown",
      "metadata": {
        "id": "view-in-github",
        "colab_type": "text"
      },
      "source": [
        "<a href=\"https://colab.research.google.com/github/dhanvina/Data-science-basics/blob/main/ml_lab_pima.ipynb\" target=\"_parent\"><img src=\"https://colab.research.google.com/assets/colab-badge.svg\" alt=\"Open In Colab\"/></a>"
      ]
    },
    {
      "cell_type": "code",
      "execution_count": 2,
      "metadata": {
        "id": "tzmLIqQI2fal"
      },
      "outputs": [],
      "source": [
        "import pandas as pd\n",
        "import numpy as np"
      ]
    },
    {
      "cell_type": "code",
      "source": [
        "#program1\n",
        "def pg1():\n",
        "  from sklearn.discriminant_analysis import LinearDiscriminantAnalysis\n",
        "  from sklearn.model_selection import KFold,cross_val_score\n",
        "  df = pd.read_csv(\"/content/pima-indians-diabetes.csv\",header=None)\n",
        "  x=df.values[:,0:8]\n",
        "  y=df.values[:,8]\n",
        "  model = LinearDiscriminantAnalysis()\n",
        "  cv1=KFold(n_splits=3,shuffle=True,random_state=1)\n",
        "  result = cross_val_score(model,x,y,cv=cv1)\n",
        "  return (result,\"Accuracy %.3f\"%result.mean())\n",
        "  \n",
        "pg1()"
      ],
      "metadata": {
        "colab": {
          "base_uri": "https://localhost:8080/"
        },
        "id": "yn5jCRTz5avf",
        "outputId": "517e7b92-7f86-4793-dcaf-e39d34d72cf1"
      },
      "execution_count": 27,
      "outputs": [
        {
          "output_type": "execute_result",
          "data": {
            "text/plain": [
              "(array([0.77734375, 0.7578125 , 0.75390625]), 'Accuracy 0.763')"
            ]
          },
          "metadata": {},
          "execution_count": 27
        }
      ]
    },
    {
      "cell_type": "code",
      "source": [
        "#program3 (PGBI BPAL))\n",
        "\n",
        "col_names=['pregnant','glucose','bp','insulin','bmi','pedigree','age','label']\n",
        "df=pd.read_csv(\"/content/pima-indians-diabetes.csv\",names=col_names)\n",
        "x=df[['pregnant','glucose','bp','insulin','bmi','pedigree','age']]\n",
        "y=df.label\n",
        "\n",
        "from sklearn.model_selection import train_test_split\n",
        "xtrain,xtest,ytrain,ytest=train_test_split(x,y) \n",
        "\n",
        "from sklearn.linear_model import LogisticRegression\n",
        "model=LogisticRegression(random_state=1)\n",
        "model.fit(xtrain,ytrain)\n",
        "pred=model.predict(xtest)\n",
        "\n",
        "from sklearn import metrics\n",
        "from sklearn.metrics import accuracy_score\n",
        "cnf = metrics.confusion_matrix(ytest,pred)\n",
        "print(cnf)\n",
        "print(\"predictions\",accuracy_score(ytest,pred,normalize=False))\n",
        "print(\"accuracy\",accuracy_score(ytest,pred,normalize=True))\n",
        "\n"
      ],
      "metadata": {
        "colab": {
          "base_uri": "https://localhost:8080/"
        },
        "id": "TF5_He6k7Hll",
        "outputId": "e89649a8-984c-4835-ad01-d38f99f594da"
      },
      "execution_count": 42,
      "outputs": [
        {
          "output_type": "stream",
          "name": "stdout",
          "text": [
            "[[104  17]\n",
            " [ 31  40]]\n",
            "predictions 144\n",
            "accuracy 0.75\n"
          ]
        }
      ]
    },
    {
      "cell_type": "code",
      "source": [
        "!apt-get -qq install -y graphviz && pip install pydot"
      ],
      "metadata": {
        "colab": {
          "base_uri": "https://localhost:8080/"
        },
        "id": "eGOnhTyUDG-I",
        "outputId": "bbdcbe0b-e91a-4c15-8b25-900b5e8d3c29"
      },
      "execution_count": 47,
      "outputs": [
        {
          "output_type": "stream",
          "name": "stdout",
          "text": [
            "Looking in indexes: https://pypi.org/simple, https://us-python.pkg.dev/colab-wheels/public/simple/\n",
            "Requirement already satisfied: pydot in /usr/local/lib/python3.8/dist-packages (1.3.0)\n",
            "Requirement already satisfied: pyparsing>=2.1.4 in /usr/local/lib/python3.8/dist-packages (from pydot) (3.0.9)\n"
          ]
        }
      ]
    },
    {
      "cell_type": "code",
      "source": [
        "from sklearn.tree import DecisionTreeClassifier\n",
        "col_names=['pregnant','glucose','bp','insulin','bmi','pedigree','age','label']\n",
        "feature_col=['pregnant','glucose','bp','insulin','bmi','pedigree','age']\n",
        "df=pd.read_csv(\"/content/pima-indians-diabetes.csv\",names=col_names)\n",
        "x=df[['pregnant','glucose','bp','insulin','bmi','pedigree','age']]\n",
        "y=df.label\n",
        "\n",
        "from sklearn.model_selection import train_test_split\n",
        "xtrain,xtest,ytrain,ytest=train_test_split(x,y) \n",
        "\n",
        "model = DecisionTreeClassifier()\n",
        "model.fit(xtrain,ytrain)\n",
        "\n",
        "ypred = model.predict(xtest)\n",
        "print(np.column_stack((ytest,ypred)))\n",
        "\n",
        "print(\"Accuracy :\",metrics.accuracy_score(ytest,ypred))\n",
        "\n",
        "from sklearn.tree import export_graphviz\n",
        "from six import StringIO\n",
        "# from IPython.display import IPython\n",
        "import pydotplus\n",
        "\n",
        "dot_data=StringIO()\n",
        "export_graphviz(model,out_file=dot_data,filled=True,special_characters=True,rounded=True,feature_names=feature_col,class_names=['0','1'])\n",
        "graph = pydotplus.graph_from_dot_data(dot_data.getvalue())\n",
        "graph.write_png('diabetes.png')\n",
        "Image(graph.create_png())"
      ],
      "metadata": {
        "id": "UjX2RIQFBE-p"
      },
      "execution_count": null,
      "outputs": []
    }
  ]
}